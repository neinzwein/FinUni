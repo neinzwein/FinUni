{
 "cells": [
  {
   "cell_type": "markdown",
   "metadata": {},
   "source": [
    "Задание t-8 Pandas\n",
    "\t\t     1)\t Работа с Excel. С помощью библиотеки pandas написать программу …  (для отладки оставить в файле не более 10 строк, убрать лишние колонки, заменить значения так, чтобы легче проверять результат) \n",
    "см. https://datagy.io/pandas-groupby/\n",
    "https://newtechaudit.ru/gruzi-daty-krasivo/\n",
    "Моя шпаргалка по pandas / Хабр (habr.com)  10. Агрегирование\n",
    "Файл с продажами   XLSX/Sample-sales-data-excel.xlsx \n",
    "   Row ID;Order ID;Order Date;Ship Date;Ship Mode;Customer ID;Customer Name;Segment;Country;City;State;Postal Code;Region;Product ID;Category;Sub-Category;Product Name;Sales;Quantity;Discount;Profit\n",
    "\n",
    "1)количество штатов по регионам\n",
    "2)список штатов по регионам"
   ]
  },
  {
   "cell_type": "code",
   "execution_count": 2,
   "metadata": {},
   "outputs": [],
   "source": [
    "import pandas as pd"
   ]
  },
  {
   "cell_type": "code",
   "execution_count": 3,
   "metadata": {},
   "outputs": [],
   "source": [
    "df = pd.read_excel(\"Sample-sales-data-excel.xlsx\")"
   ]
  },
  {
   "cell_type": "code",
   "execution_count": 16,
   "metadata": {},
   "outputs": [
    {
     "data": {
      "text/plain": [
       "Region\n",
       "Central    13\n",
       "East       14\n",
       "South      11\n",
       "West       11\n",
       "Name: State, dtype: int64"
      ]
     },
     "execution_count": 16,
     "metadata": {},
     "output_type": "execute_result"
    }
   ],
   "source": [
    "#1\n",
    "df.groupby('Region')['State'].nunique()"
   ]
  },
  {
   "cell_type": "code",
   "execution_count": 17,
   "metadata": {},
   "outputs": [
    {
     "data": {
      "text/plain": [
       "Region\n",
       "Central    [Texas, Wisconsin, Nebraska, Illinois, Minneso...\n",
       "East       [Pennsylvania, Delaware, New York, Ohio, Conne...\n",
       "South      [Kentucky, Florida, North Carolina, Virginia, ...\n",
       "West       [California, Washington, Utah, Arizona, Oregon...\n",
       "Name: State, dtype: object"
      ]
     },
     "execution_count": 17,
     "metadata": {},
     "output_type": "execute_result"
    }
   ],
   "source": [
    "#2\n",
    "df.groupby('Region')['State'].unique()"
   ]
  }
 ],
 "metadata": {
  "kernelspec": {
   "display_name": "base",
   "language": "python",
   "name": "python3"
  },
  "language_info": {
   "codemirror_mode": {
    "name": "ipython",
    "version": 3
   },
   "file_extension": ".py",
   "mimetype": "text/x-python",
   "name": "python",
   "nbconvert_exporter": "python",
   "pygments_lexer": "ipython3",
   "version": "3.12.4"
  }
 },
 "nbformat": 4,
 "nbformat_minor": 2
}
