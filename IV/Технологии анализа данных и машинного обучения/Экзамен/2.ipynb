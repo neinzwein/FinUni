{
 "cells": [
  {
   "cell_type": "markdown",
   "id": "d2e8bc87",
   "metadata": {},
   "source": [
    " На языке Python разработайте скрипт, который с помощью генетического алгоритма решает следующую задачу. Дано n пунктов производства продуктов и k городов, которые в них нуждаются. Каждый город может потребить x продуктов, а каждый пункт произвести Y продуктов. Необходимо получить оптимальный маршрут, так, чтобы все города получили нужный им объем продуктов с минимальным его превышением, а транспортные расходы укладывались в определенные рамки."
   ]
  },
  {
   "cell_type": "code",
   "execution_count": 138,
   "id": "1bd6d1c3",
   "metadata": {},
   "outputs": [],
   "source": [
    "import random\n",
    "import numpy as np"
   ]
  },
  {
   "cell_type": "code",
   "execution_count": 139,
   "id": "836e3357",
   "metadata": {},
   "outputs": [],
   "source": [
    "n = 3 \n",
    "k = 5 "
   ]
  },
  {
   "cell_type": "code",
   "execution_count": 140,
   "id": "09a8e1ee",
   "metadata": {},
   "outputs": [
    {
     "name": "stdout",
     "output_type": "stream",
     "text": [
      "Количество пунктов производства : 3, Количество городов : 5\n"
     ]
    }
   ],
   "source": [
    "print(f\"Количество пунктов производства : {n}, Количество городов : {k}\")"
   ]
  },
  {
   "cell_type": "code",
   "execution_count": 141,
   "id": "1058b7da",
   "metadata": {},
   "outputs": [],
   "source": [
    "X = [20, 30, 40, 50, 60]\n",
    "Y = [100, 60, 100]\n",
    "distance = [[10, 15, 20, 10, 30],[20, 15, 10, 20, 10],[30, 10, 20, 15, 10]]\n",
    "MAX_COST = 200 #ограничение"
   ]
  },
  {
   "cell_type": "code",
   "execution_count": 142,
   "id": "e3786e29",
   "metadata": {},
   "outputs": [
    {
     "name": "stdout",
     "output_type": "stream",
     "text": [
      "Потребление городом 1 продуктов : 20\n",
      "Потребление городом 2 продуктов : 30\n",
      "Потребление городом 3 продуктов : 40\n",
      "Потребление городом 4 продуктов : 50\n",
      "Потребление городом 5 продуктов : 60\n",
      "Произведение пунктом 1 продуктов : 100\n",
      "Произведение пунктом 2 продуктов : 60\n",
      "Произведение пунктом 3 продуктов : 100\n",
      "Расстояние между пунктом 1 и городом 1 = 10\n",
      "Расстояние между пунктом 1 и городом 2 = 15\n",
      "Расстояние между пунктом 1 и городом 3 = 20\n",
      "Расстояние между пунктом 1 и городом 4 = 10\n",
      "Расстояние между пунктом 1 и городом 5 = 30\n",
      "\tРасстояние между пунктом 2 и городом 1 = 20\n",
      "\tРасстояние между пунктом 2 и городом 2 = 15\n",
      "\tРасстояние между пунктом 2 и городом 3 = 10\n",
      "\tРасстояние между пунктом 2 и городом 4 = 20\n",
      "\tРасстояние между пунктом 2 и городом 5 = 10\n",
      "\t\tРасстояние между пунктом 3 и городом 1 = 30\n",
      "\t\tРасстояние между пунктом 3 и городом 2 = 10\n",
      "\t\tРасстояние между пунктом 3 и городом 3 = 20\n",
      "\t\tРасстояние между пунктом 3 и городом 4 = 15\n",
      "\t\tРасстояние между пунктом 3 и городом 5 = 10\n"
     ]
    }
   ],
   "source": [
    "for i in range(k):\n",
    "    print(f\"Потребление городом {i+1} продуктов : {X[i]}\")\n",
    "for i in range(n):\n",
    "    print(f\"Произведение пунктом {i+1} продуктов : {Y[i]}\")\n",
    "for i in range(n):\n",
    "    for j in range(k):\n",
    "        print(\"\\t\"*i+f\"Расстояние между пунктом {i+1} и городом {j+1} = {distance[i][j]}\")"
   ]
  },
  {
   "cell_type": "code",
   "execution_count": 143,
   "id": "484a1e35",
   "metadata": {},
   "outputs": [],
   "source": [
    "#создаём популяцию\n",
    "def generate_population(size):\n",
    "    return [[random.randint(0, n - 1) for i in range(k)] for i in range(size)]"
   ]
  },
  {
   "cell_type": "code",
   "execution_count": 144,
   "id": "645b332f",
   "metadata": {},
   "outputs": [
    {
     "name": "stdout",
     "output_type": "stream",
     "text": [
      "[[1, 2, 1, 2, 1], [1, 2, 0, 1, 0], [0, 1, 0, 2, 0], [1, 1, 1, 1, 1], [0, 1, 0, 2, 2], [0, 0, 1, 1, 2], [2, 0, 2, 0, 1], [0, 1, 1, 0, 0], [0, 0, 2, 2, 2], [2, 1, 0, 2, 1]]\n"
     ]
    }
   ],
   "source": [
    "print(f\"{generate_population(10)}\")"
   ]
  },
  {
   "cell_type": "code",
   "execution_count": 145,
   "id": "b80b4792",
   "metadata": {},
   "outputs": [],
   "source": [
    "#приспособленность\n",
    "def fitness(individual):\n",
    "    total_supply = [0] * n\n",
    "    total_cost = 0\n",
    "    for city, factory in enumerate(individual):\n",
    "        total_supply[factory] += X[city]\n",
    "        total_cost += distance_matrix[factory][city]\n",
    "    #штраф\n",
    "    supply_excess = sum(max(0, total_supply[i] - Y[i]) for i in range(n))\n",
    "    \n",
    "    unmet_demand = sum(max(0, city_demand[city] - total_supply[factory]) for city, factory in enumerate(individual))\n",
    "    \n",
    "    # Если транспортные расходы превышают лимит, добавляем большой штраф\n",
    "    if total_cost > MAX_COST:\n",
    "        return float('inf')\n",
    "    \n",
    "    return total_cost + supply_excess + unmet_demand\n",
    "    return total_cost + supply_excess"
   ]
  },
  {
   "cell_type": "code",
   "execution_count": 146,
   "id": "449b6c30",
   "metadata": {},
   "outputs": [],
   "source": [
    "#скрещивание\n",
    "def crossover(parent1,parent2):\n",
    "    point = random.randint(1,k-1)\n",
    "    child1 = parent1[:point] +parent2[point:]\n",
    "    child2 = parent2[:point]+parent1[point:]\n",
    "    return child1,child2"
   ]
  },
  {
   "cell_type": "code",
   "execution_count": 147,
   "id": "837a238f",
   "metadata": {},
   "outputs": [],
   "source": [
    "#мутация\n",
    "def mutate(individual):\n",
    "    point = random.randint(0, k - 1)\n",
    "    individual[point] = random.randint(0, n - 1)\n",
    "    return individual"
   ]
  },
  {
   "cell_type": "code",
   "execution_count": 148,
   "id": "47364ce3",
   "metadata": {},
   "outputs": [],
   "source": [
    "#селекция\n",
    "def selection(population, fitnesses):\n",
    "    selected = random.choices(population, weights=[1/f for f in fitnesses], k=1)\n",
    "    return selected[0]"
   ]
  },
  {
   "cell_type": "code",
   "execution_count": 149,
   "id": "9b00b6bd",
   "metadata": {},
   "outputs": [],
   "source": [
    "#Основа кода\n",
    "def genetic_algorithm(pop_size, generations, cx_prob, mut_prob):\n",
    "    population = generate_population(pop_size)\n",
    "    \n",
    "    for gen in range(generations):\n",
    "        fitnesses = [fitness(ind) for ind in population]\n",
    "        new_population = []\n",
    "        #выбираем, мутируем и создаём популяцию\n",
    "        for _ in range(pop_size // 2):\n",
    "            parent1 = selection(population, fitnesses)\n",
    "            parent2 = selection(population, fitnesses)\n",
    "            if random.random() < cx_prob:\n",
    "                child1, child2 = crossover(parent1, parent2)\n",
    "            else:\n",
    "                child1, child2 = parent1, parent2\n",
    "            if random.random() < mut_prob:\n",
    "                child1 = mutate(child1)\n",
    "            if random.random() < mut_prob:\n",
    "                child2 = mutate(child2)\n",
    "            \n",
    "            new_population.extend([child1, child2])\n",
    "        population = new_population\n",
    "    \n",
    "    #лучший индивид\n",
    "    final_fitnesses = [fitness(ind) for ind in population]\n",
    "    best_index = np.argmin(final_fitnesses)\n",
    "    return population[best_index], final_fitnesses[best_index]"
   ]
  },
  {
   "cell_type": "code",
   "execution_count": 150,
   "id": "fe220c83",
   "metadata": {},
   "outputs": [
    {
     "name": "stdout",
     "output_type": "stream",
     "text": [
      "Оптимальный маршрут с затратами : 50\n",
      "Город 1 получает продукты из пункта 1\n",
      "Город 2 получает продукты из пункта 3\n",
      "Город 3 получает продукты из пункта 2\n",
      "Город 4 получает продукты из пункта 1\n",
      "Город 5 получает продукты из пункта 3\n"
     ]
    }
   ],
   "source": [
    "if __name__ == \"__main__\":\n",
    "    best_individual, best_fitness = genetic_algorithm(pop_size=50, generations=10, cx_prob=0.7, mut_prob=0.1)\n",
    "    print(f\"Оптимальный маршрут с затратами : {best_fitness}\")\n",
    "    for k, n in enumerate(best_individual):\n",
    "        print(f\"Город {k + 1} получает продукты из пункта {n + 1}\")"
   ]
  },
  {
   "cell_type": "code",
   "execution_count": null,
   "id": "60e8ebe9",
   "metadata": {},
   "outputs": [],
   "source": []
  }
 ],
 "metadata": {
  "kernelspec": {
   "display_name": "Python 3 (ipykernel)",
   "language": "python",
   "name": "python3"
  },
  "language_info": {
   "codemirror_mode": {
    "name": "ipython",
    "version": 3
   },
   "file_extension": ".py",
   "mimetype": "text/x-python",
   "name": "python",
   "nbconvert_exporter": "python",
   "pygments_lexer": "ipython3",
   "version": "3.11.5"
  }
 },
 "nbformat": 4,
 "nbformat_minor": 5
}
