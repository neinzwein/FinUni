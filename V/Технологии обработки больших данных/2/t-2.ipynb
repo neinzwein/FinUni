{
 "cells": [
  {
   "cell_type": "markdown",
   "metadata": {},
   "source": [
    "numpy.asanyarray\n",
    "numpy.asanyarray(a, dtype=None, order=None, *, like=None)\n",
    "Преобразовывает входные данные в ndarray, но передаёт через них подклассы ndarray."
   ]
  },
  {
   "cell_type": "markdown",
   "metadata": {},
   "source": [
    "Параметры:\n",
    "a: array_like\n",
    "Входные данные (в любой форме), которые могут быть преобразованы в массив. Сюда входят скаляры, списки, списки кортежей, кортежи кортежей, кортежи списков и ndarrays."
   ]
  },
  {
   "cell_type": "markdown",
   "metadata": {},
   "source": [
    "dtype : тип данных, необязательно\n",
    "По умолчанию тип данных определяется из входных данных."
   ]
  },
  {
   "cell_type": "markdown",
   "metadata": {},
   "source": [
    "order : {‘C’, ‘F’, ‘A’, ‘K’}, необязательно\n",
    "Расположение памяти. ‘A’ и ‘K’ зависят от порядка ввода массива a. Представление памяти ‘C’ в виде строки (в стиле C), ‘F’ в виде столбца (в стиле Fortran). ‘A’ (any) означает ‘F’, если a является непрерывным для Fortran, ‘C’ в противном случае ‘K’ (keep) сохраняет порядок ввода По умолчанию равным ‘C’."
   ]
  },
  {
   "cell_type": "markdown",
   "metadata": {},
   "source": [
    "device : тип данных str, необязательно\n",
    "Устройство, на которое следует поместить созданный массив. Значение по умолчанию: None. Только для взаимодействия Array-API должно быть so \"cpu\", если передано."
   ]
  },
  {
   "cell_type": "markdown",
   "metadata": {},
   "source": [
    "copy : тип данных bool, необязательно\n",
    "Если True, то объект копируется. Если None, то объект копируется только при необходимости, т. Е. Если __array__ возвращает копию, если obj является вложенной последовательностью или если копия необходима для удовлетворения любого из других требований (dtype, order и т.д.). Для False это вызывает ValueError, если копирования нельзя избежать. По умолчанию: None."
   ]
  },
  {
   "cell_type": "markdown",
   "metadata": {},
   "source": [
    "\n",
    "like : array_like, необязательно\n",
    "Ссылочный объект, позволяющий создавать массивы, которые не являются массивами NumPy. Если подобный массив, переданный в as, like поддерживает __array_function__ протокол, результат будет определен им. В этом случае это гарантирует создание объекта массива, совместимого с тем, который передается через этот аргумент."
   ]
  },
  {
   "cell_type": "markdown",
   "metadata": {},
   "source": [
    "Что функция возвращает:"
   ]
  },
  {
   "cell_type": "markdown",
   "metadata": {},
   "source": [
    "out : ndarray или подкласс ndarray\n",
    "Интерпретация массива a. Если a является ndarray или подклассом ndarray, он возвращается как есть и копирование не выполняется."
   ]
  },
  {
   "cell_type": "markdown",
   "metadata": {},
   "source": [
    "Примеры использования"
   ]
  },
  {
   "cell_type": "code",
   "execution_count": 1,
   "metadata": {},
   "outputs": [],
   "source": [
    "import numpy as np"
   ]
  },
  {
   "cell_type": "code",
   "execution_count": 2,
   "metadata": {},
   "outputs": [
    {
     "name": "stdout",
     "output_type": "stream",
     "text": [
      "<class 'list'>\n",
      "<class 'numpy.ndarray'>\n"
     ]
    }
   ],
   "source": [
    "a = [1, 2]\n",
    "print(type(a))\n",
    "\n",
    "a = np.asanyarray(a)\n",
    "print(type(a))"
   ]
  },
  {
   "cell_type": "code",
   "execution_count": 3,
   "metadata": {},
   "outputs": [
    {
     "name": "stdout",
     "output_type": "stream",
     "text": [
      "True\n"
     ]
    }
   ],
   "source": [
    "a = np.array([(1., 2), (3., 4)], dtype='f4,i4').view(np.recarray)\n",
    "print(np.asanyarray(a) is a)"
   ]
  }
 ],
 "metadata": {
  "kernelspec": {
   "display_name": "base",
   "language": "python",
   "name": "python3"
  },
  "language_info": {
   "codemirror_mode": {
    "name": "ipython",
    "version": 3
   },
   "file_extension": ".py",
   "mimetype": "text/x-python",
   "name": "python",
   "nbconvert_exporter": "python",
   "pygments_lexer": "ipython3",
   "version": "3.12.4"
  }
 },
 "nbformat": 4,
 "nbformat_minor": 2
}
